{
  "nbformat": 4,
  "nbformat_minor": 0,
  "metadata": {
    "colab": {
      "provenance": []
    },
    "kernelspec": {
      "name": "python3",
      "display_name": "Python 3"
    },
    "language_info": {
      "name": "python"
    }
  },
  "cells": [
    {
      "cell_type": "markdown",
      "source": [
        "1. Comparison Table (1 < log n < n < n log n < n^2 < n^3 < 2^n < n!)\n"
      ],
      "metadata": {
        "id": "lmbU1Nr8rvP4"
      }
    },
    {
      "cell_type": "code",
      "execution_count": null,
      "metadata": {
        "colab": {
          "base_uri": "https://localhost:8080/"
        },
        "id": "8pxFjuVDrsNQ",
        "outputId": "7eaab589-ec9a-496e-dd33-bfceb2db53a4"
      },
      "outputs": [
        {
          "output_type": "stream",
          "name": "stdout",
          "text": [
            "apbqcrdsef\n"
          ]
        }
      ],
      "source": [
        "w1 = \"abcdefgh\"\n",
        "w2 = \"pqrs\"\n",
        "n = len(w1)\n",
        "m = len(w2)\n",
        "res = \"\"\n",
        "if n == m:\n",
        "  for i in range(n):\n",
        "    res = res + (w1[i]+w2[i])\n",
        "  print(res)\n",
        "elif n < m:\n",
        "  j = 0\n",
        "  while j != n:\n",
        "      res = res + (w1[j]+w2[j])\n",
        "      j = j+1\n",
        "  res = res + w2[j:]\n",
        "  print(res)\n",
        "else:\n",
        "  j = 0\n",
        "  while j != m:\n",
        "    res = res + (w1[j]+w2[j])\n",
        "    j = j+1\n",
        "  res = res + w1[j:]\n",
        "  print(res)"
      ]
    },
    {
      "cell_type": "code",
      "source": [
        "a = \"ab\"\n",
        "val = 0\n",
        "for i in a:\n",
        "  val = val + ord(i)\n",
        "  print(f\"{i}: {ord(i)}\")\n",
        "print(val)"
      ],
      "metadata": {
        "colab": {
          "base_uri": "https://localhost:8080/"
        },
        "id": "csJH3QtPJrja",
        "outputId": "3709070d-2ca7-4251-f9ad-d26584a0bfa2"
      },
      "execution_count": null,
      "outputs": [
        {
          "output_type": "stream",
          "name": "stdout",
          "text": [
            "a: 97\n",
            "b: 98\n",
            "195\n"
          ]
        }
      ]
    },
    {
      "cell_type": "markdown",
      "source": [
        "#283. Move Zeroes\n",
        "##Given an integer array nums, move all 0's to the end of it while maintaining the relative order of the non-zero elements.\n",
        "Note that you must do this in-place without making a copy of the array.\n",
        "Example 1:\n",
        "\n",
        "Input: nums = [0,1,0,3,12]\n",
        "Output: [1,3,12,0,0]\n",
        "Example 2:\n",
        "\n",
        "Input: nums = [0]\n",
        "Output: [0]"
      ],
      "metadata": {
        "id": "TuW333MGCVW7"
      }
    },
    {
      "cell_type": "code",
      "source": [
        "nums = [0,3,1,0,13,0,1,12]\n",
        "\n",
        "# l = len(nums)\n",
        "\n",
        "# for i in range(l):\n",
        "#   for j in range(i):\n",
        "#     if nums[j] == 0:\n",
        "#       val = nums.pop(j)\n",
        "#       nums.append(val)\n",
        "\n",
        "# print(nums)\n",
        "\n",
        "for i in nums:\n",
        "  if i == 0:\n",
        "    nums.pop(i)\n",
        "    nums.append(i)\n",
        "  else: continue\n",
        "print(nums)\n"
      ],
      "metadata": {
        "colab": {
          "base_uri": "https://localhost:8080/"
        },
        "id": "eZzTjeh1CMC7",
        "outputId": "55fca0e6-5317-47e5-8941-30ccc24aaab3"
      },
      "execution_count": null,
      "outputs": [
        {
          "output_type": "stream",
          "name": "stdout",
          "text": [
            "[1, 12, 0, 0, 0, 0, 0, 0]\n"
          ]
        }
      ]
    },
    {
      "cell_type": "markdown",
      "source": [
        "##66. Plus One\n",
        "\n",
        "You are given a large integer represented as an integer array digits, where each digits[i] is the ith digit of the integer. The digits are ordered from most significant to least significant in left-to-right order. The large integer does not contain any leading 0's.\n",
        "\n",
        "Increment the large integer by one and return the resulting array of digits.\n",
        "\n",
        " Example 1:\n",
        "\n",
        "Input: digits = [1,2,3]\n",
        "Output: [1,2,4]\n",
        "Explanation: The array represents the integer 123.\n",
        "Incrementing by one gives 123 + 1 = 124.\n",
        "Thus, the result should be [1,2,4].\n",
        "Example 2:\n",
        "\n",
        "Input: digits = [4,3,2,1]\n",
        "Output: [4,3,2,2]\n",
        "Explanation: The array represents the integer 4321.\n",
        "Incrementing by one gives 4321 + 1 = 4322.\n",
        "Thus, the result should be [4,3,2,2].\n",
        "Example 3:\n",
        "\n",
        "Input: digits = [9]\n",
        "Output: [1,0]\n",
        "Explanation: The array represents the integer 9.\n",
        "Incrementing by one gives 9 + 1 = 10.\n",
        "Thus, the result should be [1,0].\n"
      ],
      "metadata": {
        "id": "yck3j5t-2ZQP"
      }
    },
    {
      "cell_type": "code",
      "source": [
        "digits = [9,9]\n",
        "nums = ''\n",
        "for i in digits:\n",
        "  nums += str(i)\n",
        "  print(nums)\n",
        "\n",
        "nums = int(nums)\n",
        "print(nums)\n",
        "nums = nums+1\n",
        "print(nums)\n",
        "nums = str(nums)\n",
        "print(nums)\n",
        "print(len(nums))\n",
        "new_list = []\n",
        "for i in range(len(nums)):\n",
        "  new_list.append(nums[i])\n",
        "\n",
        "print(new_list)\n",
        "\n"
      ],
      "metadata": {
        "colab": {
          "base_uri": "https://localhost:8080/"
        },
        "id": "q1RYTt8-2TKx",
        "outputId": "1ef04917-d6f4-44b1-8f6a-405889527a57"
      },
      "execution_count": null,
      "outputs": [
        {
          "output_type": "stream",
          "name": "stdout",
          "text": [
            "9\n",
            "99\n",
            "99\n",
            "100\n",
            "100\n",
            "3\n",
            "['1', '0', '0']\n"
          ]
        }
      ]
    },
    {
      "cell_type": "code",
      "source": [
        "nums = [-1,-3,5,7,-2,1,-1,-2-6,-3,2,4,0,-7]\n",
        "negatives = 0\n",
        "for num in nums:\n",
        "  if num == 0:\n",
        "    print(0)\n",
        "\n",
        "  if num < 0:\n",
        "    negatives = negatives + 1\n",
        "\n",
        "  if negatives % 2 == 0:\n",
        "    print(1)\n",
        "  else: print(-1)"
      ],
      "metadata": {
        "colab": {
          "base_uri": "https://localhost:8080/"
        },
        "id": "oVO52E6_xW9w",
        "outputId": "74285348-3aee-4004-9708-798983a58569"
      },
      "execution_count": null,
      "outputs": [
        {
          "output_type": "stream",
          "name": "stdout",
          "text": [
            "-1\n",
            "1\n",
            "1\n",
            "1\n",
            "-1\n",
            "-1\n",
            "1\n",
            "-1\n",
            "1\n",
            "1\n",
            "1\n",
            "0\n",
            "1\n",
            "-1\n"
          ]
        }
      ]
    },
    {
      "cell_type": "markdown",
      "source": [
        "#896. Is Monotonic Array"
      ],
      "metadata": {
        "id": "XTQqnXpHWLu5"
      }
    },
    {
      "cell_type": "code",
      "source": [
        "#Using Two Flags\n",
        "def is_monotone(nums):\n",
        "  decreasing = increasing = True\n",
        "\n",
        "  for i in range(len(nums)-1):\n",
        "    if nums[i+1] < nums[i]:\n",
        "      increasing = False\n",
        "    if nums[i+1] > nums[i]:\n",
        "      decreasing = False\n",
        "\n",
        "  return decreasing or increasing\n",
        "\n",
        "nums = [1,1,2,0]\n",
        "print(is_monotone(nums))\n"
      ],
      "metadata": {
        "colab": {
          "base_uri": "https://localhost:8080/"
        },
        "id": "QXNGA-kUWK7e",
        "outputId": "266dec64-f665-4161-b550-b1a286e22a88"
      },
      "execution_count": null,
      "outputs": [
        {
          "output_type": "stream",
          "name": "stdout",
          "text": [
            "False\n"
          ]
        }
      ]
    },
    {
      "cell_type": "code",
      "source": [
        "#using sorted\n",
        "def is_monotone(nums):\n",
        "  return nums == sorted(nums) or nums == sorted(nums,reverse= True)\n",
        "\n",
        "nums = [1,1,2,0]\n",
        "print(is_monotone(nums))"
      ],
      "metadata": {
        "colab": {
          "base_uri": "https://localhost:8080/"
        },
        "id": "6i-5mYaDblH6",
        "outputId": "94864dcd-a1b5-4734-a61b-b83242bac4a6"
      },
      "execution_count": null,
      "outputs": [
        {
          "output_type": "stream",
          "name": "stdout",
          "text": [
            "False\n"
          ]
        }
      ]
    },
    {
      "cell_type": "code",
      "source": [
        "#using all funciton\n",
        "\n",
        "def is_monotone(nums):\n",
        "  return all(nums[i+1] <= nums[i] for i in range(len(nums)-1)) or all(nums[i] <= nums[i+1] for i in range(len(nums)-1))\n",
        "\n",
        "nums = [1,1,2,4]\n",
        "print(is_monotone(nums))"
      ],
      "metadata": {
        "colab": {
          "base_uri": "https://localhost:8080/"
        },
        "id": "oZ64WEohd4yO",
        "outputId": "2ded22a6-600c-48d7-a5f2-533b771ae542"
      },
      "execution_count": null,
      "outputs": [
        {
          "output_type": "stream",
          "name": "stdout",
          "text": [
            "True\n"
          ]
        }
      ]
    },
    {
      "cell_type": "markdown",
      "source": [
        "#2210. Count Hills and Valleys in an Array"
      ],
      "metadata": {
        "id": "e4uWcAr1RSuq"
      }
    },
    {
      "cell_type": "code",
      "source": [
        "def count_hill_valley(arr):\n",
        "    count = 0\n",
        "    i = 1\n",
        "\n",
        "    while i < len(arr) - 1:\n",
        "        # Skip duplicates\n",
        "        while i < len(arr) - 1 and arr[i] == arr[i - 1]:\n",
        "            i += 1\n",
        "\n",
        "        # Ensure we are not out of bounds after skipping duplicates\n",
        "        if i >= len(arr) - 1:\n",
        "            break\n",
        "\n",
        "        if arr[i] > arr[i - 1] and arr[i] > arr[i + 1]:\n",
        "            count += 1\n",
        "        elif arr[i] < arr[i - 1] and arr[i] < arr[i + 1]:\n",
        "            count += 1\n",
        "\n",
        "        i += 1\n",
        "\n",
        "    return count\n",
        "\n",
        "# Example usage\n",
        "arr = [2, 4, 1, 1, 6, 5]\n",
        "print(count_hill_valley(arr))  # Output: 3\n"
      ],
      "metadata": {
        "colab": {
          "base_uri": "https://localhost:8080/"
        },
        "id": "V_h3PQ0oRT9j",
        "outputId": "c8227985-ffe7-49d3-ec3d-d62a402d6efe"
      },
      "execution_count": null,
      "outputs": [
        {
          "output_type": "stream",
          "name": "stdout",
          "text": [
            "2\n"
          ]
        }
      ]
    },
    {
      "cell_type": "markdown",
      "source": [
        "#13. Roman to integers"
      ],
      "metadata": {
        "id": "9ZY5Dy81ER3I"
      }
    },
    {
      "cell_type": "code",
      "source": [
        "def roman_to_int(val):\n",
        "  new_dict = {'I':1,'V':5,'X': 10, 'L': 50, 'C': 100, 'D': 500, 'M': 1000}\n",
        "  res = 0\n",
        "  for i in range(len(val)):\n",
        "\n",
        "    if i+1 < len(val) and new_dict[val[i]] < new_dict[val[i+1]]:\n",
        "\n",
        "      res = res - new_dict[val[i]]\n",
        "    else:\n",
        "      res = res + new_dict[val[i]]\n",
        "\n",
        "  return res\n",
        "\n",
        "\n",
        "\n",
        "\n",
        "val = 'LVII'\n",
        "x = 'IV'\n",
        "print(roman_to_int(val))"
      ],
      "metadata": {
        "colab": {
          "base_uri": "https://localhost:8080/"
        },
        "id": "nWAKK9ACEVGO",
        "outputId": "debdce71-afdb-42db-f9d5-23463bf2f940"
      },
      "execution_count": null,
      "outputs": [
        {
          "output_type": "stream",
          "name": "stdout",
          "text": [
            "57\n"
          ]
        }
      ]
    },
    {
      "cell_type": "markdown",
      "source": [
        "Length of last word"
      ],
      "metadata": {
        "id": "KKgQ188XlgVp"
      }
    },
    {
      "cell_type": "markdown",
      "source": [
        "1957. Delete Characters to Make Fancy String"
      ],
      "metadata": {
        "id": "JT16dhsjeVNt"
      }
    },
    {
      "cell_type": "code",
      "source": [
        "s = \"my name is Junesh Gautam and I am a billionaire\"\n",
        "# i = s.split()\n",
        "# print(i)\n",
        "j = s.strip().split()\n",
        "print(j)\n",
        "\n",
        "print(len(j[-1]))"
      ],
      "metadata": {
        "colab": {
          "base_uri": "https://localhost:8080/"
        },
        "id": "X160hjSNldg-",
        "outputId": "1605d9a1-be29-4a01-b440-1bc2f74deab9"
      },
      "execution_count": null,
      "outputs": [
        {
          "output_type": "stream",
          "name": "stdout",
          "text": [
            "['my', 'name', 'is', 'Junesh', 'Gautam', 'and', 'I', 'am', 'a', 'billionaire']\n",
            "11\n"
          ]
        }
      ]
    },
    {
      "cell_type": "code",
      "source": [
        "import sys\n",
        "# sum of windows\n",
        "int_min = -sys.maxsize-1\n",
        "\n",
        "\n",
        "def window_sum_naive(arr, k):\n",
        "  max_size = int_min\n",
        "  n = len(arr)\n",
        "  for i in range(n-k+1):\n",
        "\n",
        "    current_sum = 0\n",
        "    for j in range(k):\n",
        "      current_sum = current_sum + arr[i+j]\n",
        "    max_size = max(current_sum,max_size)\n",
        "\n",
        "  return max_size\n",
        "\n",
        "nums = [100,200,300,400,500,200,800,300,50,10]\n",
        "print(window_sum_naive(nums,2))"
      ],
      "metadata": {
        "colab": {
          "base_uri": "https://localhost:8080/"
        },
        "id": "LUe6C0hhhrJn",
        "outputId": "de363925-28e8-48e1-e1ef-f7b7d860e107"
      },
      "execution_count": null,
      "outputs": [
        {
          "output_type": "stream",
          "name": "stdout",
          "text": [
            "1100\n"
          ]
        }
      ]
    },
    {
      "cell_type": "code",
      "source": [
        "#Sliding Window\n",
        "\n",
        "def slide_sum(arr,k):\n",
        "  window_sum = sum(arr[:k])\n",
        "  max_sum = window_sum\n",
        "  n = len(arr)\n",
        "  for i in range(n-k):\n",
        "    window_sum = window_sum - arr[i] + arr[i+k]\n",
        "    max_sum = max(window_sum,max_sum)\n",
        "  return max_sum\n",
        "\n",
        "\n",
        "nums = [100,200,300,400,500,200,800,300,50,10]\n",
        "# print(slide_sum(nums,2))\n",
        "print(nums[0:2])"
      ],
      "metadata": {
        "colab": {
          "base_uri": "https://localhost:8080/"
        },
        "id": "RS2s0BkOjP-y",
        "outputId": "d684b4f1-442d-4f31-a7cc-b7eac48cd2bf"
      },
      "execution_count": null,
      "outputs": [
        {
          "output_type": "stream",
          "name": "stdout",
          "text": [
            "[100, 200]\n"
          ]
        }
      ]
    },
    {
      "cell_type": "markdown",
      "source": [
        "##Fancy Word"
      ],
      "metadata": {
        "id": "4w9iro9Y9Fvd"
      }
    },
    {
      "cell_type": "code",
      "source": [
        "def fancy(str):\n",
        "  window = str[:2]\n",
        "\n",
        "  for i in range(2,len(str)):\n",
        "    if not(str[i] == str[i-1] == str[i-2]):\n",
        "      window += str[i]\n",
        "\n",
        "  return window\n",
        "\n",
        "print(fancy('holaaaaamigooo'))\n"
      ],
      "metadata": {
        "colab": {
          "base_uri": "https://localhost:8080/"
        },
        "id": "8RkdT7rQeS2A",
        "outputId": "c356320e-6a82-4341-9083-6e37b3d81a01"
      },
      "execution_count": null,
      "outputs": [
        {
          "output_type": "stream",
          "name": "stdout",
          "text": [
            "holaamigoo\n"
          ]
        }
      ]
    },
    {
      "cell_type": "markdown",
      "source": [
        "### 682. Base Ball Game\n",
        "\n",
        "You are keeping the scores for a baseball game with strange rules. At the beginning of the game, you start with an empty record.\n",
        "\n",
        "You are given a list of strings operations, where operations[i] is the ith operation you must apply to the record and is one of the following:\n",
        "\n",
        "An integer x.\n",
        "Record a new score of x.\n",
        "'+'.\n",
        "Record a new score that is the sum of the previous two scores.\n",
        "'D'.\n",
        "Record a new score that is the double of the previous score.\n",
        "'C'.\n",
        "Invalidate the previous score, removing it from the record.\n",
        "Return the sum of all the scores on the record after applying all the operations.\n",
        "\n",
        "The test cases are generated such that the answer and all intermediate calculations fit in a 32-bit integer and that all operations are valid.\n",
        "\n",
        "\n",
        "\n",
        "Example 1:\n",
        "\n",
        "Input: ops = [\"5\",\"2\",\"C\",\"D\",\"+\"]\n",
        "Output: 30\n",
        "Explanation:\n",
        "\"5\" - Add 5 to the record, record is now [5].\n",
        "\"2\" - Add 2 to the record, record is now [5, 2].\n",
        "\"C\" - Invalidate and remove the previous score, record is now [5].\n",
        "\"D\" - Add 2 * 5 = 10 to the record, record is now [5, 10].\n",
        "\"+\" - Add 5 + 10 = 15 to the record, record is now [5, 10, 15].\n",
        "The total sum is 5 + 10 + 15 = 30.\n",
        "Example 2:\n",
        "\n",
        "Input: ops = [\"5\",\"-2\",\"4\",\"C\",\"D\",\"9\",\"+\",\"+\"]\n",
        "Output: 27\n",
        "Explanation:\n",
        "\"5\" - Add 5 to the record, record is now [5].\n",
        "\"-2\" - Add -2 to the record, record is now [5, -2].\n",
        "\"4\" - Add 4 to the record, record is now [5, -2, 4].\n",
        "\"C\" - Invalidate and remove the previous score, record is now [5, -2].\n",
        "\"D\" - Add 2 * -2 = -4 to the record, record is now [5, -2, -4].\n",
        "\"9\" - Add 9 to the record, record is now [5, -2, -4, 9].\n",
        "\"+\" - Add -4 + 9 = 5 to the record, record is now [5, -2, -4, 9, 5].\n",
        "\"+\" - Add 9 + 5 = 14 to the record, record is now [5, -2, -4, 9, 5, 14].\n",
        "The total sum is 5 + -2 + -4 + 9 + 5 + 14 = 27."
      ],
      "metadata": {
        "id": "3letR7XE-s6O"
      }
    },
    {
      "cell_type": "code",
      "source": [
        "def baseBall(lst):\n",
        "  stack = []\n",
        "  for op in lst:\n",
        "    if op == '+':\n",
        "      if len(stack) > 2:\n",
        "        stack.append(stack[-1] + stack[-2])\n",
        "\n",
        "    elif op == 'D':\n",
        "      if stack:\n",
        "        stack.append(stack[-1]*2)\n",
        "\n",
        "    elif op == 'C':\n",
        "      if stack:\n",
        "        stack.pop()\n",
        "\n",
        "    else:\n",
        "      stack.append(int(op))\n",
        "\n",
        "  return sum(stack)\n",
        "\n",
        "nums =  [5, -2, -4, 9, 5, 14]\n",
        "print(baseBall(nums))\n",
        "\n"
      ],
      "metadata": {
        "colab": {
          "base_uri": "https://localhost:8080/"
        },
        "id": "e5rnwQAc-1_1",
        "outputId": "3a557e2d-4a37-41d2-ba12-e7a085fc478a"
      },
      "execution_count": null,
      "outputs": [
        {
          "output_type": "stream",
          "name": "stdout",
          "text": [
            "27\n"
          ]
        }
      ]
    },
    {
      "cell_type": "markdown",
      "source": [
        "##657. Robot Return to Origin\n",
        "Easy\n",
        "Topics\n",
        "Companies\n",
        "There is a robot starting at the position (0, 0), the origin, on a 2D plane. Given a sequence of its moves, judge if this robot ends up at (0, 0) after it completes its moves.\n",
        "\n",
        "You are given a string moves that represents the move sequence of the robot where moves[i] represents its ith move. Valid moves are 'R' (right), 'L' (left), 'U' (up), and 'D' (down).\n",
        "\n",
        "Return true if the robot returns to the origin after it finishes all of its moves, or false otherwise.\n",
        "\n",
        "Note: The way that the robot is \"facing\" is irrelevant. 'R' will always make the robot move to the right once, 'L' will always make it move left, etc. Also, assume that the magnitude of the robot's movement is the same for each move.\n",
        "\n",
        "\n",
        "\n",
        "Example 1:\n",
        "\n",
        "Input: moves = \"UD\"\n",
        "Output: true\n",
        "Explanation: The robot moves up once, and then down once. All moves have the same magnitude, so it ended up at the origin where it started. Therefore, we return true.\n",
        "Example 2:\n",
        "\n",
        "Input: moves = \"LL\"\n",
        "Output: false\n",
        "Explanation: The robot moves left twice. It ends up two \"moves\" to the left of the origin. We return false because it is not at the origin at the end of its moves"
      ],
      "metadata": {
        "id": "1NtYkcAAW_Ed"
      }
    },
    {
      "cell_type": "code",
      "source": [
        "def robot(moves: str) -> bool:\n",
        "\n",
        "  d_count = u_count = l_count = r_count = 0\n",
        "  for i in moves:\n",
        "    if i == d:\n",
        "      d_count += 1\n",
        "    elif i == u:\n",
        "      u_count += 1\n",
        "    elif i == r:\n",
        "      r_count += 1\n",
        "    elif i == l:\n",
        "      l_count += 1\n",
        "\n",
        "  if down_count == up_count and left_count == right_count:\n",
        "    return True\n",
        "  else:\n",
        "    return False\n",
        "\n",
        "\n"
      ],
      "metadata": {
        "id": "CmdkUO-9XD7T"
      },
      "execution_count": null,
      "outputs": []
    },
    {
      "cell_type": "markdown",
      "source": [
        "##Tic-Tac-Toe"
      ],
      "metadata": {
        "id": "3Fo0bDC9h6Sk"
      }
    },
    {
      "cell_type": "code",
      "source": [
        "def tictactoe(moves) -> str:\n",
        "  #Initialize a 3x3 board with an empty strings\n",
        "  board = [[''] * 3 for i in range(3)]\n",
        "\n",
        "  #define players\n",
        "  players = ['A','B']\n",
        "\n",
        "    #define a helper function to check the winner\n",
        "\n",
        "  def check_winner(player):\n",
        "    #check rows\n",
        "    for row in board:\n",
        "      if all(cell == player for cell in row):\n",
        "        return True\n",
        "\n",
        "    #check columns\n",
        "    for col in range(3):\n",
        "      if all(board[row][col] == player for row in range(3)):\n",
        "        return True\n",
        "\n",
        "    #check diagonals\n",
        "    if all(board[i][i] == player for i in range(3)):\n",
        "      return True\n",
        "    if all(board[i][2-i] == player for i in range(3)):\n",
        "      return True\n",
        "\n",
        "    return False\n",
        "\n",
        "  #populate the board with moves\n",
        "  for i, move in enumerate(moves):\n",
        "    row, col = move\n",
        "    player = players[i%2]\n",
        "    board[row][col] = player\n",
        "\n",
        "    if check_winner(player):\n",
        "      return player\n",
        "\n",
        "\n",
        "  return \"Draw\" if len(moves) == 9 else \"Pending\"\n",
        "\n",
        "valid_moves = [[0,0],[2,0],[1,1],[2,1],[2,2]]\n",
        "print(tictactoe(valid_moves))\n"
      ],
      "metadata": {
        "colab": {
          "base_uri": "https://localhost:8080/"
        },
        "id": "iLdzHJnJh-8A",
        "outputId": "3b58abc1-9f47-4937-f93a-475a4285fac3"
      },
      "execution_count": null,
      "outputs": [
        {
          "output_type": "stream",
          "name": "stdout",
          "text": [
            "A\n"
          ]
        }
      ]
    },
    {
      "cell_type": "markdown",
      "source": [
        "##1672 Richest Customer Wealth"
      ],
      "metadata": {
        "id": "OcMWoQk8woUU"
      }
    },
    {
      "cell_type": "code",
      "source": [
        "accounts = [[2,4,6], [1,2,3]]\n",
        "rich_guys = []\n",
        "for row in accounts:\n",
        "  # print(row)\n",
        "  sum = 0\n",
        "  for col in row:\n",
        "    # print(col)\n",
        "    sum += col\n",
        "  rich_guys.append(sum)\n",
        "print(rich_guys)\n",
        "print(max(rich_guys))\n"
      ],
      "metadata": {
        "colab": {
          "base_uri": "https://localhost:8080/"
        },
        "id": "I_4FkEWQiOhv",
        "outputId": "3d6de42c-3e39-43cd-c412-8893f9268ade"
      },
      "execution_count": null,
      "outputs": [
        {
          "output_type": "stream",
          "name": "stdout",
          "text": [
            "[12, 6]\n",
            "12\n"
          ]
        }
      ]
    },
    {
      "cell_type": "code",
      "source": [
        "mat = [[1,2,3],[4,5,6],[7,8,9]]\n",
        "# print(mat)\n",
        "# for row in range(len(mat)):\n",
        "\n",
        "#   for col in range(len(mat[row])):\n",
        "#     print(mat[col][col])\n",
        "\n",
        "mid = 3//2\n",
        "sum = 0\n",
        "for i in range(len(mat)):\n",
        "  sum = sum + mat[i][i]+mat[i][2-1]\n",
        "print(sum-mat[mid][mid])\n"
      ],
      "metadata": {
        "colab": {
          "base_uri": "https://localhost:8080/"
        },
        "id": "gzYI26qcrLN6",
        "outputId": "6b5f5435-80ca-4d01-d307-d1a6946d0cd6"
      },
      "execution_count": null,
      "outputs": [
        {
          "output_type": "stream",
          "name": "stdout",
          "text": [
            "25\n"
          ]
        }
      ]
    },
    {
      "cell_type": "code",
      "source": [],
      "metadata": {
        "colab": {
          "base_uri": "https://localhost:8080/"
        },
        "id": "WHSo2h0yrNRr",
        "outputId": "2690947a-c9aa-4a48-a09e-f9c86b392a45"
      },
      "execution_count": null,
      "outputs": [
        {
          "output_type": "execute_result",
          "data": {
            "text/plain": [
              "1"
            ]
          },
          "metadata": {},
          "execution_count": 2
        }
      ]
    },
    {
      "cell_type": "code",
      "source": [
        "# Input : [[1,70,3],[4,5,6],[7,8,9]], output : [1,2,3,4,8,12,11,10,9,5,6,7]\n",
        "mat = [[2,4,6,8],[10,12,14,16],[18,20,22,24]]\n",
        "visited = [[False for col in row] for row in mat]\n",
        "spiral = []\n",
        "\n",
        "i = 0\n",
        "j = 0\n",
        "row_len = len(mat)\n",
        "col_len = len(mat[0])\n",
        "\n",
        "while i != row_len:\n",
        "\n",
        "  while j != col_len:\n",
        "    if j != col_len and visited[row][col] == False:\n",
        "      spiral.append(mat[i][j])\n",
        "      j += 1\n",
        "      break\n",
        "    if j == col_len:\n",
        "      spiral.append(mat[j][i-1])\n",
        "\n",
        "  i = i+1\n",
        "print(spiral)\n",
        "\n"
      ],
      "metadata": {
        "colab": {
          "base_uri": "https://localhost:8080/"
        },
        "id": "tiJGzqxArRtN",
        "outputId": "771c25a8-b49b-4024-a077-b0f86e23273a"
      },
      "execution_count": null,
      "outputs": [
        {
          "output_type": "stream",
          "name": "stdout",
          "text": [
            "[2, 12, 22]\n"
          ]
        }
      ]
    },
    {
      "cell_type": "code",
      "source": [
        "matt = [1,3,5,7,9]\n",
        "for val in matt[::-1]:\n",
        "  print(val)"
      ],
      "metadata": {
        "colab": {
          "base_uri": "https://localhost:8080/"
        },
        "id": "LQIJC6WM-Zc2",
        "outputId": "e54d4b97-3a34-47ab-fd43-b7708b490d59"
      },
      "execution_count": null,
      "outputs": [
        {
          "output_type": "stream",
          "name": "stdout",
          "text": [
            "9\n",
            "7\n",
            "5\n",
            "3\n",
            "1\n"
          ]
        }
      ]
    },
    {
      "cell_type": "markdown",
      "source": [
        "##1945. Sum of Digits of String After Convert"
      ],
      "metadata": {
        "id": "yuSPdUWbNSmO"
      }
    },
    {
      "cell_type": "code",
      "source": [
        "print(ord('a')-97+1)"
      ],
      "metadata": {
        "colab": {
          "base_uri": "https://localhost:8080/"
        },
        "id": "DiTbEq2sHHAf",
        "outputId": "ad13093c-4e9b-47be-fc35-e625b28cbc52"
      },
      "execution_count": null,
      "outputs": [
        {
          "output_type": "stream",
          "name": "stdout",
          "text": [
            "1\n"
          ]
        }
      ]
    },
    {
      "cell_type": "code",
      "source": [
        "s = 'abcde' #12345\n",
        "k = 2\n",
        "#output: 1+2+3+4+5 = 15 = 6\n",
        "\n",
        "\n",
        "def get_lucky(s, k):\n",
        "\n",
        "  #conversion\n",
        "  val = ''\n",
        "  for char in s:\n",
        "    val += str(ord(char)-97+1)\n",
        "    print(val)\n",
        "\n",
        "  #initial sum\n",
        "  sum = 0\n",
        "  for i in range(len(val)):\n",
        "    sum += int(val[i])\n",
        "    print(sum)\n",
        "  # performing the summing k times\n",
        "  new_sum = 0\n",
        "  for i in range(k):\n",
        "    new_sum += sum%10\n",
        "    print(f\"new_sum: {new_sum}\")\n",
        "    sum = sum//10\n",
        "  print(new_sum)\n",
        "s = 'iiiii' #12345\n",
        "k = 1\n",
        "get_lucky(s,k)"
      ],
      "metadata": {
        "colab": {
          "base_uri": "https://localhost:8080/"
        },
        "id": "x2chUMlnNaxs",
        "outputId": "7a6bb444-73fc-47ee-f74b-1875acdcb282"
      },
      "execution_count": null,
      "outputs": [
        {
          "output_type": "stream",
          "name": "stdout",
          "text": [
            "9\n",
            "99\n",
            "999\n",
            "9999\n",
            "99999\n",
            "9\n",
            "18\n",
            "27\n",
            "36\n",
            "45\n",
            "new_sum: 5\n",
            "5\n"
          ]
        }
      ]
    },
    {
      "cell_type": "markdown",
      "source": [
        "##54 Spiral Sum"
      ],
      "metadata": {
        "id": "q_yt_NfTyzcJ"
      }
    },
    {
      "cell_type": "code",
      "source": [
        "mat = [[1,2,3,4],[5,6,7,8],[9,10,11,12]]\n",
        "m = len(mat)\n",
        "n = len(mat[0])\n",
        "for i in range(m):\n",
        "  for j in range(n):\n",
        "    print(f\"{mat[i][j]:4}\",end = \" \")\n",
        "  print()\n",
        "\n",
        "top, bottom = 0, m\n",
        "left, right = 0, n\n",
        "\n",
        "res = []\n",
        "\n",
        "while (top < bottom and left < right):\n",
        "\n",
        "  for i in range(left, right):\n",
        "    res.append(mat[top][i])\n",
        "  top += 1\n",
        "\n",
        "  for i in range(top, bottom):\n",
        "    res.append(mat[i][right-1])\n",
        "  right -= 1\n",
        "\n",
        "  if not (top < bottom and left < right):\n",
        "    break\n",
        "\n",
        "  for i in range(right-1, left - 1, -1):\n",
        "    res.append(mat[bottom-1][i])\n",
        "  bottom -= 1\n",
        "\n",
        "  for i in range(bottom-1, top-1, -1):\n",
        "    res.append(mat[i][left])\n",
        "  left += 1\n",
        "\n",
        "print(res)"
      ],
      "metadata": {
        "colab": {
          "base_uri": "https://localhost:8080/"
        },
        "id": "UzE6o520QAww",
        "outputId": "953cede2-59c5-4b34-beac-137eb55b2b0c"
      },
      "execution_count": null,
      "outputs": [
        {
          "output_type": "stream",
          "name": "stdout",
          "text": [
            "   1    2    3    4 \n",
            "   5    6    7    8 \n",
            "   9   10   11   12 \n",
            "[1, 2, 3, 4, 8, 12, 11, 10, 9, 5, 6, 7]\n"
          ]
        }
      ]
    },
    {
      "cell_type": "code",
      "source": [
        "print(mat[0])\n",
        "print(mat[1:,0])\n"
      ],
      "metadata": {
        "colab": {
          "base_uri": "https://localhost:8080/"
        },
        "id": "rE_UEBs9cwwi",
        "outputId": "03e16b26-853d-411a-9043-60b00c27459f"
      },
      "execution_count": null,
      "outputs": [
        {
          "output_type": "stream",
          "name": "stdout",
          "text": [
            "[2 4 6]\n",
            "[ 8 14 20]\n"
          ]
        }
      ]
    },
    {
      "cell_type": "markdown",
      "source": [
        "##73. Set matrix zeros"
      ],
      "metadata": {
        "id": "PFy6QX7Jbs-q"
      }
    },
    {
      "cell_type": "code",
      "source": [
        "mat = [[2,0,6],[8,10,12],[0,16,18],[20,22,24]]\n",
        "\n",
        "m = len(mat)\n",
        "n = len(mat[0])\n",
        "\n",
        "for i in range(m):\n",
        "  for j in range(n):\n",
        "    print(f\"{mat[i][j]:4}\", end = \" \")\n",
        "  print()\n",
        "\n",
        "rows_to_zero = set()\n",
        "cols_to_zero = set()\n",
        "\n",
        "\n",
        "for i in range(m):\n",
        "  for j in range(n):\n",
        "    if mat[i][j] == 0:\n",
        "      rows_to_zero.add(i)\n",
        "      cols_to_zero.add(j)\n",
        "\n",
        "print(f\"rows_to_zero: {rows_to_zero} \\ncols_to_zero: {cols_to_zero}\")\n",
        "\n",
        "for rows in rows_to_zero:\n",
        "  for i in range(n):\n",
        "    mat[rows][i] = 0\n",
        "\n",
        "for cols in cols_to_zero:\n",
        "  for i in range(m):\n",
        "    mat[i][cols] = 0\n",
        "\n",
        "print()\n",
        "\n",
        "for i in range(m):\n",
        "  for j in range(n):\n",
        "    print(f\"{mat[i][j]:4}\", end = \" \")\n",
        "  print()\n",
        "\n"
      ],
      "metadata": {
        "colab": {
          "base_uri": "https://localhost:8080/"
        },
        "id": "gRc3ZwOpbOVG",
        "outputId": "8ed39f98-897a-44d0-80f7-2929b0df28bb"
      },
      "execution_count": null,
      "outputs": [
        {
          "output_type": "stream",
          "name": "stdout",
          "text": [
            "   2    0    6 \n",
            "   8   10   12 \n",
            "   0   16   18 \n",
            "  20   22   24 \n",
            "rows_to_zero: {0, 2} \n",
            "cols_to_zero: {0, 1}\n",
            "\n",
            "   0    0    0 \n",
            "   0    0   12 \n",
            "   0    0    0 \n",
            "   0    0   24 \n"
          ]
        }
      ]
    },
    {
      "cell_type": "code",
      "source": [
        "def toString(List):\n",
        "    return ''.join(List)\n",
        "\n",
        "\n",
        "def permute(a, l, r):\n",
        "    if l == r:\n",
        "        print(toString(a))\n",
        "    else:\n",
        "        for i in range(l, r):\n",
        "            a[l], a[i] = a[i], a[l]\n",
        "            permute(a, l+1, r)\n",
        "            a[l], a[i] = a[i], a[l]  # backtrack\n",
        "\n",
        "# Driver code\n",
        "string = \"ABCD\"\n",
        "n = len(string)\n",
        "a = list(string)\n",
        "\n",
        "# Function call\n",
        "permute(a, 0, n)\n"
      ],
      "metadata": {
        "id": "JlSXyEQycKm3",
        "colab": {
          "base_uri": "https://localhost:8080/"
        },
        "outputId": "401405c7-35d3-44a0-dc21-f50b4db5ff40"
      },
      "execution_count": null,
      "outputs": [
        {
          "output_type": "stream",
          "name": "stdout",
          "text": [
            "ABCD\n",
            "ABDC\n",
            "ACBD\n",
            "ACDB\n",
            "ADCB\n",
            "ADBC\n",
            "BACD\n",
            "BADC\n",
            "BCAD\n",
            "BCDA\n",
            "BDCA\n",
            "BDAC\n",
            "CBAD\n",
            "CBDA\n",
            "CABD\n",
            "CADB\n",
            "CDAB\n",
            "CDBA\n",
            "DBCA\n",
            "DBAC\n",
            "DCBA\n",
            "DCAB\n",
            "DACB\n",
            "DABC\n"
          ]
        }
      ]
    },
    {
      "cell_type": "code",
      "source": [
        "def toString(List):\n",
        "    return ''.join(List)\n",
        "\n",
        "def permute(a, l, r, count):\n",
        "    if l == r:\n",
        "        print(toString(a))\n",
        "        count[0] += 1  # Increment the count when a permutation is found\n",
        "    else:\n",
        "        for i in range(l, r):\n",
        "            a[l], a[i] = a[i], a[l]\n",
        "            permute(a, l+1, r, count)\n",
        "            a[l], a[i] = a[i], a[l]  # Backtrack\n",
        "\n",
        "# Driver code\n",
        "string = \"ABCD\"\n",
        "n = len(string)\n",
        "a = list(string)\n",
        "count = [0]  # Use a list to store count so it can be modified inside the function\n",
        "\n",
        "# Function call\n",
        "permute(a, 0, n, count)\n",
        "\n",
        "# Print the count of permutations\n",
        "print(f\"Total number of permutations: {count[0]}\")\n"
      ],
      "metadata": {
        "colab": {
          "base_uri": "https://localhost:8080/"
        },
        "id": "3mjq9ojwKOG8",
        "outputId": "287891b9-2e97-4b21-a5c3-992f9b4b32d9"
      },
      "execution_count": null,
      "outputs": [
        {
          "output_type": "stream",
          "name": "stdout",
          "text": [
            "ABCD\n",
            "ABDC\n",
            "ACBD\n",
            "ACDB\n",
            "ADCB\n",
            "ADBC\n",
            "BACD\n",
            "BADC\n",
            "BCAD\n",
            "BCDA\n",
            "BDCA\n",
            "BDAC\n",
            "CBAD\n",
            "CBDA\n",
            "CABD\n",
            "CADB\n",
            "CDAB\n",
            "CDBA\n",
            "DBCA\n",
            "DBAC\n",
            "DCBA\n",
            "DCAB\n",
            "DACB\n",
            "DABC\n",
            "Total number of permutations: 24\n"
          ]
        }
      ]
    },
    {
      "cell_type": "markdown",
      "source": [
        "##46. Permutaion\n",
        "Given an array nums of distinct integers, return all the possible permutations. You can return the answer in any order.\n",
        "\n",
        "Example 1:\n",
        "\n",
        "Input: nums = [1,2,3]\n",
        "Output: [[1,2,3],[1,3,2],[2,1,3],[2,3,1],[3,1,2],[3,2,1]]\n",
        "\n",
        "\n",
        "Example 2:\n",
        "\n",
        "Input: nums = [0,1]\n",
        "Output: [[0,1],[1,0]]\n",
        "\n",
        "\n",
        "Example 3:\n",
        "\n",
        "Input: nums = [1]\n",
        "Output: [[1]]\n"
      ],
      "metadata": {
        "id": "HQ1LD2ySH2pA"
      }
    },
    {
      "cell_type": "code",
      "source": [
        "def permute(nums):\n",
        "  result = []\n",
        "\n",
        "  #base case\n",
        "  if (len(nums) == 1):\n",
        "    return [nums[:]]\n",
        "\n",
        "  for i in range(len(nums)):\n",
        "    n = nums.pop(0)\n",
        "    perms = permute(nums)\n",
        "\n",
        "    for perm in perms:\n",
        "      perm.append(n)\n",
        "    result.extend(perms)\n",
        "    nums.append(n)\n",
        "\n",
        "  return result\n",
        "\n",
        "\n",
        "nums = [1,2,3]\n",
        "print(permute(nums))\n",
        "\n"
      ],
      "metadata": {
        "colab": {
          "base_uri": "https://localhost:8080/"
        },
        "id": "qgxVaKDkJo-5",
        "outputId": "9ffbc375-9856-4233-8dbb-7a9a05386f28"
      },
      "execution_count": null,
      "outputs": [
        {
          "output_type": "stream",
          "name": "stdout",
          "text": [
            "[[3, 2, 1], [2, 3, 1], [1, 3, 2], [3, 1, 2], [2, 1, 3], [1, 2, 3]]\n"
          ]
        }
      ]
    },
    {
      "cell_type": "code",
      "source": [],
      "metadata": {
        "id": "K4i_VxXh14wh"
      },
      "execution_count": null,
      "outputs": []
    }
  ]
}